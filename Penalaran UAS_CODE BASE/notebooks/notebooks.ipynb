{
 "cells": [
  {
   "cell_type": "code",
   "execution_count": null,
   "id": "ef644428-8dcc-4af8-8245-365d44c19f58",
   "metadata": {},
   "outputs": [],
   "source": [
    "# --- Bagian 0: Persiapan Awal ---\n",
    "\n",
    "import pandas as pd\n",
    "from sklearn.feature_extraction.text import TfidfVectorizer\n",
    "from sklearn.metrics.pairwise import cosine_similarity\n",
    "from sklearn.model_selection import train_test_split\n",
    "import numpy as np\n",
    "import json\n",
    "from typing import List\n",
    "\n",
    "print(\"Library berhasil diimpor.\")"
   ]
  },
  {
   "cell_type": "code",
   "execution_count": null,
   "id": "e016a4a2-0b0c-402f-a75a-9aa1614b4596",
   "metadata": {},
   "outputs": [],
   "source": [
    "# --- Bagian 1: Muat Data ---\n",
    "# Muat data kasus yang sudah diproses dari Tahap 2\n",
    "try:\n",
    "    df_cases = pd.read_csv('data/processed/cases.csv')\n",
    "    print(\"Data kasus berhasil dimuat.\")\n",
    "    print(f\"Jumlah dokumen: {len(df_cases)}\")\n",
    "    print(\"Contoh 5 baris pertama:\")\n",
    "    print(df_cases.head())\n",
    "    print(f\"Kolom yang tersedia: {df_cases.columns.tolist()}\")\n",
    "\n",
    "    # Pastikan kolom 'text full' ada dan tidak kosong\n",
    "    if 'text full' not in df_cases.columns:\n",
    "        raise ValueError(\"Kolom 'text full' tidak ditemukan di cases.csv. Pastikan nama kolomnya benar.\")\n",
    "    if df_cases['text full'].isnull().any():\n",
    "        print(\"Peringatan: Ada nilai kosong di kolom 'text full'. Akan diisi dengan string kosong.\")\n",
    "        df_cases['text full'] = df_cases['text full'].fillna('')\n",
    "\n",
    "except FileNotFoundError:\n",
    "    print(\"Error: File 'data/processed/cases.csv' tidak ditemukan.\")\n",
    "    print(\"Pastikan Anda telah menjalankan Tahap 2 (Case Representation) dan menyimpan outputnya.\")\n",
    "    raise \n",
    "except ValueError as e:\n",
    "    print(f\"Error: {e}\")\n",
    "    raise \n",
    "\n",
    "corpus = df_cases['text full'].tolist()\n",
    "case_ids = df_cases['case id'].tolist()"
   ]
  },
  {
   "cell_type": "code",
   "execution_count": null,
   "id": "7a157f88-622a-44fd-8a85-59a998eff1ce",
   "metadata": {},
   "outputs": [],
   "source": [
    "## i. Representasi Vektor (TF-IDF)"
   ]
  },
  {
   "cell_type": "code",
   "execution_count": null,
   "id": "1b550e87-8838-409d-8b6a-702e5689ae0b",
   "metadata": {},
   "outputs": [],
   "source": [
    "# --- Bagian 2: Representasi Vektor (TF-IDF) ---\n",
    "\n",
    "print(\"\\n--- Bagian 2: Representasi Vektor (TF-IDF) ---\")\n",
    "\n",
    "tfidf_vectorizer = TfidfVectorizer(max_features=5000, min_df=5, max_df=0.8)\n",
    "tfidf_matrix = tfidf_vectorizer.fit_transform(corpus)\n",
    "\n",
    "print(f\"Bentuk TF-IDF matrix: {tfidf_matrix.shape} (Jumlah dokumen x Jumlah fitur)\")\n",
    "print(f\"Contoh sebagian fitur (kata): {tfidf_vectorizer.get_feature_names_out()[:20]}...\")\n",
    "print(\"Representasi vektor TF-IDF berhasil dibuat.\")"
   ]
  },
  {
   "cell_type": "code",
   "execution_count": null,
   "id": "13406cc4-4261-4bbd-bb82-a8dd3ab3ebb9",
   "metadata": {},
   "outputs": [],
   "source": [
    "## ii. Splitting Data"
   ]
  },
  {
   "cell_type": "code",
   "execution_count": null,
   "id": "2534881b-e647-4e5a-836a-9258ed38c354",
   "metadata": {},
   "outputs": [],
   "source": [
    "## iii. Model Retrieval (Cosine Similarity pada TF-IDF)"
   ]
  },
  {
   "cell_type": "code",
   "execution_count": null,
   "id": "a00b219a-d7f8-457d-b828-4d4cc82c065e",
   "metadata": {},
   "outputs": [],
   "source": [
    "# --- Bagian 4: Model Retrieval (Cosine Similarity pada TF-IDF) ---\n",
    "\n",
    "print(\"\\n--- Bagian 4: Model Retrieval (Cosine Similarity pada TF-IDF) ---\")\n",
    "\n",
    "def calculate_similarities(query_vector, case_vectors):\n",
    "    similarities = cosine_similarity(query_vector.reshape(1, -1), case_vectors)\n",
    "    return similarities.flatten()\n",
    "\n",
    "print(\"Fungsi 'calculate_similarities' siap digunakan.\")"
   ]
  },
  {
   "cell_type": "code",
   "execution_count": null,
   "id": "b1affc46-e89e-4a15-b633-2b9e0ed2eac0",
   "metadata": {},
   "outputs": [],
   "source": [
    "## iv. Fungsi Retrieval"
   ]
  },
  {
   "cell_type": "code",
   "execution_count": null,
   "id": "c6326ffa-b76f-49c6-9954-e553764d0404",
   "metadata": {},
   "outputs": [],
   "source": [
    "# --- Bagian 5: Implementasi Fungsi 'retrieve()' ---\n",
    "\n",
    "print(\"\\n--- Bagian 5: Implementasi Fungsi 'retrieve()' ---\")\n",
    "\n",
    "def retrieve(query: str, k: int = 5, vectorizer: TfidfVectorizer = tfidf_vectorizer,\n",
    "             case_vectors_db: np.ndarray = tfidf_matrix,\n",
    "             case_id_list: List[str] = case_ids) -> List[str]:\n",
    "    \"\"\"\n",
    "    Mengambil top-k kasus yang paling mirip dengan query dari database kasus.\n",
    "\n",
    "    Args:\n",
    "        query (str): Teks query (kasus baru).\n",
    "        k (int): Jumlah kasus paling mirip yang ingin dikembalikan.\n",
    "        vectorizer (TfidfVectorizer): Objek TfidfVectorizer yang sudah dilatih.\n",
    "        case_vectors_db (np.ndarray): Matriks vektor kasus (TF-IDF matrix) dari seluruh case base.\n",
    "        case_id_list (List[str]): List ID kasus yang sesuai dengan baris di case_vectors_db.\n",
    "\n",
    "    Returns:\n",
    "        List[str]: List berisi ID dari top-k kasus yang paling mirip.\n",
    "    \"\"\"\n",
    "    # 1) Pre-process query (lakukan preprocessing yang sama seperti pada data kasus)\n",
    "    processed_query = query.lower()\n",
    "\n",
    "    # 2) Hitung vektor query\n",
    "    query_vector = vectorizer.transform([processed_query])\n",
    "\n",
    "    # 3) Hitung cosine-similarity dengan semua case vectors\n",
    "    similarities = cosine_similarity(query_vector, case_vectors_db).flatten()\n",
    "\n",
    "    # 4) Kembalikan top-k case_id\n",
    "    top_k_indices = np.argsort(similarities)[::-1][:k]\n",
    "    top_k_case_ids = [case_id_list[i] for i in top_k_indices]\n",
    "\n",
    "    return top_k_case_ids\n",
    "\n",
    "print(\"Fungsi 'retrieve()' berhasil didefinisikan.\")"
   ]
  },
  {
   "cell_type": "code",
   "execution_count": null,
   "id": "84d58cde-9a72-4800-845e-c296c4a113ec",
   "metadata": {},
   "outputs": [],
   "source": [
    "## v. Pengujian Awal"
   ]
  },
  {
   "cell_type": "code",
   "execution_count": null,
   "id": "3a729211-a1bf-4d47-87db-3cf43fc67deb",
   "metadata": {},
   "outputs": [],
   "source": [
    "# --- Bagian 6: Pengujian Awal Fungsi 'retrieve()' ---\n",
    "\n",
    "print(\"\\n--- Bagian 6: Pengujian Awal Fungsi 'retrieve()' ---\")\n",
    "\n",
    "test_queries = {\n",
    "    \"query_1\": {\n",
    "        \"text\": \"Seorang terdakwa dihukum 3 tahun penjara dan denda 800 juta karena kepemilikan sabu seberat 0,6898 gram.\",\n",
    "        \"ground_truth_case_ids\": [\"4435kpid.sus2025\"]\n",
    "    },\n",
    "    \"query_2\": {\n",
    "        \"text\": \"Kasus pidana narkotika dengan pasal 112 ayat 1 UU nomor 35 tahun 2009 dan hukuman 1 tahun penjara.\",\n",
    "        \"ground_truth_case_ids\": [\"3252kpid.sus2025\", \"3016kpid.sus2025\"]\n",
    "    },\n",
    "    \"query_3\": {\n",
    "        \"text\": \"Terdakwa terbukti membawa narkotika jenis ganja dan dijerat pasal 111 ayat 1 UU Narkotika.\",\n",
    "        \"ground_truth_case_ids\": [\"3126kpid.sus2025\", \"4204kpid.sus2025\"]\n",
    "    },\n",
    "    \"query_4\": {\n",
    "        \"text\": \"Pelaku penyalahgunaan sabu dengan hukuman 7 tahun penjara dan denda 1 miliar rupiah.\",\n",
    "        \"ground_truth_case_ids\": [\"2179kpid.sus2025\", \"2989kpid.sus2025\"]\n",
    "    },\n",
    "    \"query_5\": {\n",
    "        \"text\": \"Putusan terkait pasal 132 ayat 1 undang-undang nomor 35 tahun 2009 tentang narkotika dengan denda besar.\",\n",
    "        \"ground_truth_case_ids\": [\"2355kpid.sus2025\", \"3097kpid.sus2025\"]\n",
    "    }\n",
    "}\n",
    "\n",
    "try:\n",
    "    with open('data/eval/queries.json', 'w') as f:\n",
    "        json.dump(test_queries, f, indent=4)\n",
    "    print(\"\\nFile 'data/eval/queries.json' berhasil dibuat.\")\n",
    "except Exception as e:\n",
    "    print(f\"Error saat menyimpan queries.json: {e}\")\n",
    "\n",
    "print(\"\\n--- Hasil Pengujian Fungsi 'retrieve()' ---\")\n",
    "for query_name, q_data in test_queries.items():\n",
    "    query_text = q_data['text']\n",
    "    retrieved_ids = retrieve(query_text, k=5,\n",
    "                             vectorizer=tfidf_vectorizer,\n",
    "                             case_vectors_db=tfidf_matrix,\n",
    "                             case_id_list=case_ids)\n",
    "\n",
    "    print(f\"\\nQuery ({query_name}): \\\"{query_text}\\\"\")\n",
    "    print(f\"Ground Truth Case IDs: {q_data['ground_truth_case_ids']}\")\n",
    "    print(f\"Retrieved Top 5 Case IDs: {retrieved_ids}\")\n",
    "\n",
    "    hits = [id for id in retrieved_ids if id in q_data['ground_truth_case_ids']]\n",
    "    print(f\"Hits (ground truth ditemukan): {hits}\")\n",
    "    print(f\"Proporsi hit: {len(hits) / len(q_data['ground_truth_case_ids']):.2f}\")"
   ]
  },
  {
   "cell_type": "code",
   "execution_count": null,
   "id": "3bfd295e-ee16-42b9-8da0-d5f2940f863d",
   "metadata": {},
   "outputs": [],
   "source": [
    "## vi. Output Tahap Retrieval"
   ]
  },
  {
   "cell_type": "code",
   "execution_count": null,
   "id": "c0debf13-9607-4ac5-a608-32166d111661",
   "metadata": {},
   "outputs": [],
   "source": [
    "# --- Bagian 7: Output Tahap Retrieval ---\n",
    "\n",
    "print(\"\\n--- Bagian 7: Output Tahap Retrieval ---\")\n",
    "print(\"Pastikan Anda menyimpan notebook ini sebagai 'notebooks/03_case_retrieval.ipynb'.\")\n",
    "print(\"Fungsi 'retrieve()' telah didefinisikan dan diuji.\")\n",
    "print(\"File 'data/eval/queries.json' telah dibuat.\")"
   ]
  }
 ],
 "metadata": {
  "kernelspec": {
   "display_name": "Python 3 (ipykernel)",
   "language": "python",
   "name": "python3"
  },
  "language_info": {
   "codemirror_mode": {
    "name": "ipython",
    "version": 3
   },
   "file_extension": ".py",
   "mimetype": "text/x-python",
   "name": "python",
   "nbconvert_exporter": "python",
   "pygments_lexer": "ipython3",
   "version": "3.12.6"
  }
 },
 "nbformat": 4,
 "nbformat_minor": 5
}
